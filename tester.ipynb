{
 "cells": [
  {
   "cell_type": "code",
   "execution_count": 24,
   "metadata": {},
   "outputs": [],
   "source": [
    "import numpy as np\n",
    "import cv2\n",
    "import skimage\n",
    "import matplotlib.pyplot as plt\n",
    "import json\n",
    "import random"
   ]
  },
  {
   "cell_type": "code",
   "execution_count": 45,
   "metadata": {},
   "outputs": [
    {
     "data": {
      "text/plain": [
       "-1"
      ]
     },
     "execution_count": 45,
     "metadata": {},
     "output_type": "execute_result"
    }
   ],
   "source": [
    "img1 = skimage.io.imread('p0.png')\n",
    "img1 = img1[200:900, 400:1100, :]\n",
    "skimage.io.imsave(\"d/img1.jpg\", img1)\n",
    "gray = cv2.cvtColor(img1,cv2.COLOR_BGR2GRAY)\n",
    "gray = np.float32(gray)\n",
    "dst = cv2.cornerHarris(gray,2,3,0.04)\n",
    "dst = cv2.dilate(dst,None)\n",
    "ret, dst = cv2.threshold(dst,0.01*dst.max(),255,0)\n",
    "dst = np.uint8(dst)\n",
    "\n",
    "ret, labels, stats, centroids = cv2.connectedComponentsWithStats(dst)\n",
    "# define the criteria to stop and refine the corners\n",
    "criteria = (cv2.TERM_CRITERIA_EPS + cv2.TERM_CRITERIA_MAX_ITER, 100, 0.001)\n",
    "corners = cv2.cornerSubPix(gray,np.float32(centroids),(5,5),(-1,-1),criteria)\n",
    "\n",
    "des1 = np.array([corners[:,1], corners[:,0]]).astype(int).T\n",
    "# des1 = [\n",
    "# [ 96, 378],\n",
    "# [111, 320],\n",
    "# [112, 435],\n",
    "# [129, 375],\n",
    "\n",
    "\n",
    "# [305, 201],\n",
    "# [376, 207],\n",
    "# [333, 251],\n",
    "# [406, 256],\n",
    "\n",
    "# [335, 496],\n",
    "# [408, 492],\n",
    "# [307, 550],\n",
    "# [379, 545]]\n",
    "for x in range(len(des1)):\n",
    "  for a in range(5):\n",
    "    for b in range(5):\n",
    "      img1[des1[x][0]-2+a][des1[x][1]-2+b]=[0,0,255]\n",
    "\n",
    "\n",
    "cv2.imshow('dst',img1)\n",
    "cv2.waitKey(0)"
   ]
  },
  {
   "cell_type": "code",
   "execution_count": 27,
   "metadata": {},
   "outputs": [
    {
     "data": {
      "text/plain": [
       "-1"
      ]
     },
     "execution_count": 27,
     "metadata": {},
     "output_type": "execute_result"
    }
   ],
   "source": [
    "img2 = skimage.io.imread('p1.png')\n",
    "img2 = img2[200:900, 400:1100, :]\n",
    "skimage.io.imsave(\"d/img2.jpg\", img2)\n",
    "gray = cv2.cvtColor(img2,cv2.COLOR_BGR2GRAY)\n",
    "gray = np.float32(gray)\n",
    "dst = cv2.cornerHarris(gray,2,3,0.04)\n",
    "dst = cv2.dilate(dst,None)\n",
    "ret, dst = cv2.threshold(dst,0.01*dst.max(),255,0)\n",
    "dst = np.uint8(dst)\n",
    "\n",
    "ret, labels, stats, centroids = cv2.connectedComponentsWithStats(dst)\n",
    "# define the criteria to stop and refine the corners\n",
    "criteria = (cv2.TERM_CRITERIA_EPS + cv2.TERM_CRITERIA_MAX_ITER, 100, 0.001)\n",
    "corners = cv2.cornerSubPix(gray,np.float32(centroids),(5,5),(-1,-1),criteria)\n",
    "\n",
    "des2 = np.array([corners[:,1], corners[:,0]]).astype(int).T\n",
    "# des2 = [\n",
    "# [ 96, 396],\n",
    "# [107, 326],\n",
    "# [120, 432],\n",
    "# [132, 354],\n",
    "# [277, 185],\n",
    "# [343, 191],\n",
    "# [311, 205],\n",
    "# [381, 212],\n",
    "# [355, 426],\n",
    "# [427, 424],\n",
    "# [337, 502],\n",
    "# [408, 499]]\n",
    "for x in range(len(des2)):\n",
    "  for a in range(5):\n",
    "    for b in range(5):\n",
    "      img2[des2[x][0]-2+a][des2[x][1]-2+b]=[0,0,255]\n",
    "\n",
    "cv2.imshow('dst',img2)\n",
    "cv2.waitKey(0)"
   ]
  },
  {
   "cell_type": "code",
   "execution_count": 28,
   "metadata": {},
   "outputs": [],
   "source": [
    "def factorization_method(points_im1, points_im2):\n",
    "    c1 = np.zeros(2)\n",
    "    for x in range(len(points_im1)):\n",
    "        c1[0] += points_im1[x][0]\n",
    "        c1[1] += points_im1[x][1]\n",
    "    c1 /= len(points_im1)\n",
    "    pc1 = []\n",
    "    for x in range(len(points_im1)):\n",
    "        pc1.append([points_im1[x][0] - c1[0], points_im1[x][1] - c1[1], 1])\n",
    "    pc1 = np.array(pc1)\n",
    "    c2 = np.zeros(2)\n",
    "    for x in range(len(points_im2)):\n",
    "        c2[0] += points_im2[x][0]\n",
    "        c2[1] += points_im2[x][1]\n",
    "    c2 /= len(points_im2)\n",
    "    pc2 = []\n",
    "    for x in range(len(points_im2)):\n",
    "        pc2.append([points_im2[x][0] - c2[0], points_im2[x][1] - c2[1], 1])\n",
    "    pc2 = np.array(pc2)\n",
    "\n",
    "    D = np.matrix(np.concatenate((np.transpose(pc1)[0:2], np.transpose(pc2)[0:2])))\n",
    "    u, s, vh = np.linalg.svd(D, full_matrices=False)\n",
    "    s = s[0:3]\n",
    "    u = u[:,0:3]\n",
    "    vh = vh[0:3]\n",
    "    structure = np.matmul(np.diag(s),vh)\n",
    "    motion = u\n",
    "    return structure, motion"
   ]
  },
  {
   "cell_type": "code",
   "execution_count": 29,
   "metadata": {},
   "outputs": [],
   "source": [
    "def get_data_from_txt_file(filename, use_subset = False):\n",
    "    with open(filename) as f:\n",
    "            lines = f.read().splitlines() \n",
    "    number_pts = int(lines[0])\n",
    "\n",
    "    points = np.ones((number_pts, 3))\n",
    "    for i in range(number_pts):\n",
    "        split_arr = lines[i+1].split()\n",
    "        if len(split_arr) == 2:\n",
    "            y, x = split_arr\n",
    "        else:\n",
    "            x, y, z = split_arr\n",
    "            points[i,2] = z\n",
    "        points[i,0] = x \n",
    "        points[i,1] = y\n",
    "    return points"
   ]
  },
  {
   "cell_type": "code",
   "execution_count": 30,
   "metadata": {},
   "outputs": [],
   "source": [
    "points_img1 = get_data_from_txt_file('des1.txt')\n",
    "points_img2 = get_data_from_txt_file('des2.txt')\n",
    "structure, motion = factorization_method(points_img1, points_img2)"
   ]
  },
  {
   "cell_type": "code",
   "execution_count": 31,
   "metadata": {},
   "outputs": [],
   "source": [
    "def scatter_3D_axis_equal(X, Y, Z, ax):\n",
    "    ax.scatter(X, Y, Z)\n",
    "    max_range = np.array([X.max()-X.min(), Y.max()-Y.min(), Z.max()-Z.min()]).max() / 2.0\n",
    "\n",
    "    mid_x = (X.max()+X.min()) * 0.5\n",
    "    mid_y = (Y.max()+Y.min()) * 0.5\n",
    "    mid_z = (Z.max()+Z.min()) * 0.5\n",
    "    ax.set_xlim(mid_x - max_range, mid_x + max_range)\n",
    "    ax.set_ylim(mid_y - max_range, mid_y + max_range)\n",
    "    ax.set_zlim(mid_z - max_range, mid_z + max_range)"
   ]
  },
  {
   "cell_type": "code",
   "execution_count": 36,
   "metadata": {},
   "outputs": [
    {
     "data": {
      "text/plain": [
       "Text(0.5, 0.92, 'Factorization Method')"
      ]
     },
     "execution_count": 36,
     "metadata": {},
     "output_type": "execute_result"
    },
    {
     "data": {
      "image/png": "[encoded data removed]",
      "text/plain": [
       "<Figure size 432x288 with 1 Axes>"
      ]
     },
     "metadata": {
      "needs_background": "light"
     },
     "output_type": "display_data"
    }
   ],
   "source": [
    "fig = plt.figure()\n",
    "ax = fig.add_subplot(111, projection = '3d')\n",
    "ax.axis('off')\n",
    "scatter_3D_axis_equal(structure[0,:], structure[1,:], structure[2,:], ax)\n",
    "ax.set_title('Factorization Method')"
   ]
  },
  {
   "cell_type": "code",
   "execution_count": 33,
   "metadata": {},
   "outputs": [
    {
     "data": {
      "image/png": "[encoded data removed]",
      "text/plain": [
       "<Figure size 432x288 with 1 Axes>"
      ]
     },
     "metadata": {
      "needs_background": "light"
     },
     "output_type": "display_data"
    }
   ],
   "source": [
    "fig = plt.figure()\n",
    "ax = plt.axes(projection ='3d')\n",
    "ax.scatter(structure[0,:], structure[1,:], structure[2,:])\n",
    "plt.show()"
   ]
  },
  {
   "cell_type": "code",
   "execution_count": 34,
   "metadata": {},
   "outputs": [],
   "source": [
    "def estimate_initial_RT(E):\n",
    "    U, D, VT = np.linalg.svd(E, full_matrices=False)\n",
    "    T = U[:,2:3]\n",
    "    W = np.matrix([[0,-1,0],[1,0,0],[0,0,1]])\n",
    "    Q1 = np.matmul(np.matmul(U, W), VT)\n",
    "    Q2 = np.matmul(np.matmul(U, W.T), VT)\n",
    "    R1 = np.linalg.det(Q1) * Q1\n",
    "    R2 = np.linalg.det(Q2) * Q2\n",
    "    RTs = []\n",
    "    RTs.append(np.concatenate((R1, T),axis=1))\n",
    "    RTs.append(np.concatenate((R1, -T),axis=1))\n",
    "    RTs.append(np.concatenate((R2, T),axis=1))\n",
    "    RTs.append(np.concatenate((R2, -T),axis=1))\n",
    "    return np.array(RTs)\n",
    "def linear_estimate_3d_point(image_points, camera_matrices):\n",
    "    A = []\n",
    "    for x in range(len(image_points)):\n",
    "        A.append(image_points[x][0] * camera_matrices[x][2] - camera_matrices[x][0])\n",
    "        A.append(image_points[x][1] * camera_matrices[x][2] - camera_matrices[x][1])\n",
    "    U, D, VT = np.linalg.svd(A, full_matrices=False)\n",
    "    solve =  VT[-1]\n",
    "    return solve[0:3] / solve[3]\n",
    "def jacobian(point_3d, camera_matrices):\n",
    "    J = np.zeros((2*camera_matrices.shape[0], 3))\n",
    "    point_3d_homo = np.hstack((point_3d, 1))\n",
    "    J_set = []\n",
    "\n",
    "    for i in range(camera_matrices.shape[0]):\n",
    "        Mi = camera_matrices[i]\n",
    "        pi = Mi.dot(point_3d_homo)\n",
    "        Jix = (pi[2]*np.array([Mi[0, 0], Mi[0, 1], Mi[0, 2]]) \\\n",
    "              - pi[0]*np.array([Mi[2, 0], Mi[2, 1], Mi[2, 2]])) / pi[2]**2\n",
    "        Jiy = (pi[2]*np.array([Mi[1, 0], Mi[1, 1], Mi[1, 2]]) \\\n",
    "              - pi[1]*np.array([Mi[2, 0], Mi[2, 1], Mi[2, 2]])) / pi[2]**2\n",
    "        J_set.append(Jix)\n",
    "        J_set.append(Jiy)\n",
    "\n",
    "    for i in range(J.shape[0]):\n",
    "        J[i] = J_set[i]\n",
    "    return J\n",
    "def reprojection_error(point_3d, image_points, camera_matrices):\n",
    "    N = image_points.shape[0]\n",
    "    error_set = []\n",
    "    point_3d_homo = np.hstack((point_3d, 1))\n",
    "\n",
    "    for i in range(N):\n",
    "        pi = image_points[i]\n",
    "        Mi = camera_matrices[i]\n",
    "        Yi = Mi.dot(point_3d_homo)\n",
    "        # compute error\n",
    "        pi_prime = 1.0 / Yi[2] * np.array([Yi[0], Yi[1]])\n",
    "        error_i = (pi_prime - pi)\n",
    "        error_set.append(error_i[0])\n",
    "        error_set.append(error_i[1])\n",
    "\n",
    "    error = np.array(error_set)\n",
    "    return error\n",
    "def nonlinear_estimate_3d_point(image_points, camera_matrices):\n",
    "    P = linear_estimate_3d_point(image_points, camera_matrices)\n",
    "\n",
    "    for i in range(10):\n",
    "        e = reprojection_error(P, image_points, camera_matrices)\n",
    "        J = jacobian(P, camera_matrices)\n",
    "        P -= np.linalg.inv(J.T.dot(J)).dot(J.T).dot(e)\n",
    "\n",
    "    return P\n",
    "def estimate_RT_from_E(E, image_points, K):\n",
    "    # TODO: Implement this method!\n",
    "    RT = estimate_initial_RT(E)\n",
    "    N = image_points.shape[0]\n",
    "    for i in range(4):\n",
    "        count = 0\n",
    "        max_points = 0\n",
    "        rt = RT[i, :, :]\n",
    "        c1 = np.c_[K, np.zeros((3,1))]\n",
    "        c2 = K.dot(rt)\n",
    "        camera_matrices = np.array([c1, c2])\n",
    "        for j in range(N):\n",
    "            estimated_point = nonlinear_estimate_3d_point(image_points[j], camera_matrices)\n",
    "            if (estimated_point[2]) > 0:\n",
    "                count += 1\n",
    "        if count > max_points:\n",
    "            max_points = count\n",
    "            correct_RT = RT[i, :, :]\n",
    "    return correct_RT"
   ]
  },
  {
   "cell_type": "code",
   "execution_count": 35,
   "metadata": {},
   "outputs": [
    {
     "ename": "NameError",
     "evalue": "name 'K' is not defined",
     "output_type": "error",
     "traceback": [
      "\u001b[1;31m---------------------------------------------------------------------------\u001b[0m",
      "\u001b[1;31mNameError\u001b[0m                                 Traceback (most recent call last)",
      "\u001b[1;32m~\\AppData\\Local\\Temp/ipykernel_31792/1616430485.py\u001b[0m in \u001b[0;36m<module>\u001b[1;34m\u001b[0m\n\u001b[0;32m      1\u001b[0m \u001b[0mcamera_matrices\u001b[0m \u001b[1;33m=\u001b[0m \u001b[0mnp\u001b[0m\u001b[1;33m.\u001b[0m\u001b[0mzeros\u001b[0m\u001b[1;33m(\u001b[0m\u001b[1;33m(\u001b[0m\u001b[1;36m2\u001b[0m\u001b[1;33m,\u001b[0m \u001b[1;36m3\u001b[0m\u001b[1;33m,\u001b[0m \u001b[1;36m4\u001b[0m\u001b[1;33m)\u001b[0m\u001b[1;33m)\u001b[0m\u001b[1;33m\u001b[0m\u001b[1;33m\u001b[0m\u001b[0m\n\u001b[1;32m----> 2\u001b[1;33m \u001b[0mcamera_matrices\u001b[0m\u001b[1;33m[\u001b[0m\u001b[1;36m0\u001b[0m\u001b[1;33m,\u001b[0m \u001b[1;33m:\u001b[0m\u001b[1;33m,\u001b[0m \u001b[1;33m:\u001b[0m\u001b[1;33m]\u001b[0m \u001b[1;33m=\u001b[0m \u001b[0mK\u001b[0m\u001b[1;33m.\u001b[0m\u001b[0mdot\u001b[0m\u001b[1;33m(\u001b[0m\u001b[0mnp\u001b[0m\u001b[1;33m.\u001b[0m\u001b[0mhstack\u001b[0m\u001b[1;33m(\u001b[0m\u001b[1;33m(\u001b[0m\u001b[0mnp\u001b[0m\u001b[1;33m.\u001b[0m\u001b[0meye\u001b[0m\u001b[1;33m(\u001b[0m\u001b[1;36m3\u001b[0m\u001b[1;33m)\u001b[0m\u001b[1;33m,\u001b[0m \u001b[0mnp\u001b[0m\u001b[1;33m.\u001b[0m\u001b[0mzeros\u001b[0m\u001b[1;33m(\u001b[0m\u001b[1;33m(\u001b[0m\u001b[1;36m3\u001b[0m\u001b[1;33m,\u001b[0m\u001b[1;36m1\u001b[0m\u001b[1;33m)\u001b[0m\u001b[1;33m)\u001b[0m\u001b[1;33m)\u001b[0m\u001b[1;33m)\u001b[0m\u001b[1;33m)\u001b[0m\u001b[1;33m\u001b[0m\u001b[1;33m\u001b[0m\u001b[0m\n\u001b[0m",
      "\u001b[1;31mNameError\u001b[0m: name 'K' is not defined"
     ]
    }
   ],
   "source": [
    "camera_matrices = np.zeros((2, 3, 4))\n",
    "camera_matrices[0, :, :] = K.dot(np.hstack((np.eye(3), np.zeros((3,1)))))"
   ]
  }
 ],
 "metadata": {
  "interpreter": {
   "hash": "f59ed18d22e34dce7db8f3bc60c6dc8e93f60a00f2d6bd4fcc15b06362965312"
  },
  "kernelspec": {
   "display_name": "Python 3.9.9 64-bit (windows store)",
   "language": "python",
   "name": "python3"
  },
  "language_info": {
   "codemirror_mode": {
    "name": "ipython",
    "version": 3
   },
   "file_extension": ".py",
   "mimetype": "text/x-python",
   "name": "python",
   "nbconvert_exporter": "python",
   "pygments_lexer": "ipython3",
   "version": "3.9.10"
  },
  "orig_nbformat": 4
 },
 "nbformat": 4,
 "nbformat_minor": 2
}
